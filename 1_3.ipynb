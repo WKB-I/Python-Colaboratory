{
  "nbformat": 4,
  "nbformat_minor": 0,
  "metadata": {
    "colab": {
      "name": "1-3.ipynb",
      "provenance": [],
      "collapsed_sections": [],
      "include_colab_link": true
    },
    "kernelspec": {
      "name": "python3",
      "display_name": "Python 3"
    }
  },
  "cells": [
    {
      "cell_type": "markdown",
      "metadata": {
        "id": "view-in-github",
        "colab_type": "text"
      },
      "source": [
        "<a href=\"https://colab.research.google.com/github/WKB-I/Python-Colaboratory/blob/master/1_3.ipynb\" target=\"_parent\"><img src=\"https://colab.research.google.com/assets/colab-badge.svg\" alt=\"Open In Colab\"/></a>"
      ]
    },
    {
      "cell_type": "code",
      "metadata": {
        "id": "l9knM87whXym",
        "colab_type": "code",
        "colab": {}
      },
      "source": [
        "#3-1\n",
        "1+1  #足し算\n",
        "5-2  #引き算\n",
        "2*3  #掛け算\n",
        "2**3 #累乗\n",
        "6/3  #割り算\n",
        "\n",
        "#3-7\n",
        "class Sample_Class:\n",
        "  def __init__(self, data1, data2):\n",
        "    self.data1 = data1\n",
        "    self.data2 = data2\n",
        "  \n",
        "  def method2(self):\n",
        "    return(self.data1 + self.data2)\n",
        "\n",
        "instance = Sample_Class(data1 = 2, data2 = 3)\n",
        "instance.method2()"
      ],
      "execution_count": 0,
      "outputs": []
    },
    {
      "cell_type": "code",
      "metadata": {
        "id": "j-d8WtdEnFlD",
        "colab_type": "code",
        "colab": {}
      },
      "source": [
        "#3-3\n",
        "#type()は引数の型の種類を表示する\n",
        "type(\"A\") #str\n",
        "type(1)   #int\n",
        "type(2.4) #float\n",
        "type(True)#bool"
      ],
      "execution_count": 0,
      "outputs": []
    },
    {
      "cell_type": "code",
      "metadata": {
        "id": "ad5nHtJHnMfm",
        "colab_type": "code",
        "colab": {}
      },
      "source": [
        "#3-5\n",
        "x=2\n",
        "x+1\n",
        "\n",
        "def sample_func(x):\n",
        "  return((x+2)*4)\n",
        "\n",
        "sample_func(x)    #16行目の変数にreturnの関数の結果が返る"
      ],
      "execution_count": 0,
      "outputs": []
    },
    {
      "cell_type": "code",
      "metadata": {
        "id": "GCZqaCfonTep",
        "colab_type": "code",
        "colab": {}
      },
      "source": [
        "#3-7\n",
        "class Sample_Class:\n",
        "  def __init__(self, data1, data2):\n",
        "    self.data1 = data1\n",
        "    self.data2 = data2\n",
        "  \n",
        "  def method2(self):\n",
        "    return(self.data1 + self.data2)\n",
        "\n",
        "instance = Sample_Class(data1 = 2, data2 = 3)\n",
        "instance.method2()\n",
        "instance.data2"
      ],
      "execution_count": 0,
      "outputs": []
    },
    {
      "cell_type": "code",
      "metadata": {
        "id": "TteDGMq84ah8",
        "colab_type": "code",
        "colab": {}
      },
      "source": [
        "#3-8 if文\n",
        "data = 1\n",
        "if(data < 2):\n",
        "  print(\"2以下\")\n",
        "else:\n",
        "  print(\"2以上\")\n"
      ],
      "execution_count": 0,
      "outputs": []
    },
    {
      "cell_type": "code",
      "metadata": {
        "id": "FPmVREkr42kJ",
        "colab_type": "code",
        "colab": {
          "base_uri": "https://localhost:8080/",
          "height": 119
        },
        "outputId": "b447e531-0b0e-4efb-b624-833c3851385c"
      },
      "source": [
        "#3-9 for文\n",
        "for i in range(0,3):\n",
        "  print(i)\n",
        "  print(\"hello\")"
      ],
      "execution_count": 3,
      "outputs": [
        {
          "output_type": "stream",
          "text": [
            "0\n",
            "hello\n",
            "1\n",
            "hello\n",
            "2\n",
            "hello\n"
          ],
          "name": "stdout"
        }
      ]
    }
  ]
}