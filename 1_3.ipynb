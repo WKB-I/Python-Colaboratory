{
  "nbformat": 4,
  "nbformat_minor": 0,
  "metadata": {
    "colab": {
      "name": "1-3.ipynb",
      "provenance": [],
      "collapsed_sections": [],
      "authorship_tag": "ABX9TyOldXS7RQjUgDG/0t9NDCE/",
      "include_colab_link": true
    },
    "kernelspec": {
      "name": "python3",
      "display_name": "Python 3"
    }
  },
  "cells": [
    {
      "cell_type": "markdown",
      "metadata": {
        "id": "view-in-github",
        "colab_type": "text"
      },
      "source": [
        "<a href=\"https://colab.research.google.com/github/WKB-I/Python-Colaboratory/blob/master/1_3.ipynb\" target=\"_parent\"><img src=\"https://colab.research.google.com/assets/colab-badge.svg\" alt=\"Open In Colab\"/></a>"
      ]
    },
    {
      "cell_type": "code",
      "metadata": {
        "id": "l9knM87whXym",
        "colab_type": "code",
        "colab": {
          "base_uri": "https://localhost:8080/",
          "height": 34
        },
        "outputId": "c9222dc0-e30f-4709-e111-9fd3c2b58684"
      },
      "source": [
        "#3-1\n",
        "1+1  #足し算\n",
        "5-2  #引き算\n",
        "2*3  #掛け算\n",
        "2**3 #累乗\n",
        "6/3  #割り算\n",
        "\n",
        "#3-3\n",
        "#type()は引数の型の種類を表示する\n",
        "type(\"A\") #str\n",
        "type(1)   #int\n",
        "type(2.4) #float\n",
        "type(True)#bool\n",
        "\n",
        "#3-5\n",
        "x=2\n",
        "x+1\n",
        "\n",
        "def sample_func(x):\n",
        "  return((x+2)*4)\n",
        "\n",
        "sample_func(x)    #16行目の変数にreturnの関数の結果が返る"
      ],
      "execution_count": 24,
      "outputs": [
        {
          "output_type": "execute_result",
          "data": {
            "text/plain": [
              "16"
            ]
          },
          "metadata": {
            "tags": []
          },
          "execution_count": 24
        }
      ]
    },
    {
      "cell_type": "code",
      "metadata": {
        "id": "SKXww2ZnieKS",
        "colab_type": "code",
        "colab": {}
      },
      "source": [
        ""
      ],
      "execution_count": 0,
      "outputs": []
    }
  ]
}