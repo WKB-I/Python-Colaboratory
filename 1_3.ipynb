{
  "nbformat": 4,
  "nbformat_minor": 0,
  "metadata": {
    "colab": {
      "name": "1-3.ipynb",
      "provenance": [],
      "collapsed_sections": [],
      "include_colab_link": true
    },
    "kernelspec": {
      "name": "python3",
      "display_name": "Python 3"
    }
  },
  "cells": [
    {
      "cell_type": "markdown",
      "metadata": {
        "id": "view-in-github",
        "colab_type": "text"
      },
      "source": [
        "<a href=\"https://colab.research.google.com/github/WKB-I/Python-Colaboratory/blob/master/1_3.ipynb\" target=\"_parent\"><img src=\"https://colab.research.google.com/assets/colab-badge.svg\" alt=\"Open In Colab\"/></a>"
      ]
    },
    {
      "cell_type": "code",
      "metadata": {
        "id": "l9knM87whXym",
        "colab_type": "code",
        "colab": {}
      },
      "source": [
        "#3-1\n",
        "1+1  #足し算\n",
        "5-2  #引き算\n",
        "2*3  #掛け算\n",
        "2**3 #累乗\n",
        "6/3  #割り算\n",
        "\n",
        "#3-7\n",
        "class Sample_Class:\n",
        "  def __init__(self, data1, data2):\n",
        "    self.data1 = data1\n",
        "    self.data2 = data2\n",
        "  \n",
        "  def method2(self):\n",
        "    return(self.data1 + self.data2)\n",
        "\n",
        "instance = Sample_Class(data1 = 2, data2 = 3)\n",
        "instance.method2()"
      ],
      "execution_count": 0,
      "outputs": []
    },
    {
      "cell_type": "code",
      "metadata": {
        "id": "j-d8WtdEnFlD",
        "colab_type": "code",
        "colab": {}
      },
      "source": [
        "#3-3\n",
        "#type()は引数の型の種類を表示する\n",
        "type(\"A\") #str\n",
        "type(1)   #int\n",
        "type(2.4) #float\n",
        "type(True)#bool"
      ],
      "execution_count": 0,
      "outputs": []
    },
    {
      "cell_type": "code",
      "metadata": {
        "id": "ad5nHtJHnMfm",
        "colab_type": "code",
        "colab": {}
      },
      "source": [
        "#3-5\n",
        "x=2\n",
        "x+1\n",
        "\n",
        "def sample_func(x):\n",
        "  return((x+2)*4)\n",
        "\n",
        "sample_func(x)    #16行目の変数にreturnの関数の結果が返る"
      ],
      "execution_count": 0,
      "outputs": []
    },
    {
      "cell_type": "code",
      "metadata": {
        "id": "GCZqaCfonTep",
        "colab_type": "code",
        "colab": {}
      },
      "source": [
        "#3-7\n",
        "class Sample_Class:\n",
        "  def __init__(self, data1, data2):\n",
        "    self.data1 = data1\n",
        "    self.data2 = data2\n",
        "  \n",
        "  def method2(self):\n",
        "    return(self.data1 + self.data2)\n",
        "\n",
        "instance = Sample_Class(data1 = 2, data2 = 3)\n",
        "instance.method2()\n",
        "instance.data2"
      ],
      "execution_count": 0,
      "outputs": []
    },
    {
      "cell_type": "code",
      "metadata": {
        "id": "TteDGMq84ah8",
        "colab_type": "code",
        "colab": {}
      },
      "source": [
        "#3-8 if文\n",
        "data = 1\n",
        "if(data < 2):\n",
        "  print(\"2以下\")\n",
        "else:\n",
        "  print(\"2以上\")\n"
      ],
      "execution_count": 0,
      "outputs": []
    },
    {
      "cell_type": "code",
      "metadata": {
        "id": "FPmVREkr42kJ",
        "colab_type": "code",
        "colab": {}
      },
      "source": [
        "#3-9 for文\n",
        "for i in range(0,3):\n",
        "  print(i)\n",
        "  print(\"hello\")"
      ],
      "execution_count": 0,
      "outputs": []
    },
    {
      "cell_type": "code",
      "metadata": {
        "id": "Fnvt8mdi5ksu",
        "colab_type": "code",
        "colab": {
          "base_uri": "https://localhost:8080/",
          "height": 51
        },
        "outputId": "aae2723e-c336-4cc5-d75d-501befa188ea"
      },
      "source": [
        "import numpy as np\n",
        "import pandas as pd\n",
        "\n",
        "#4-3\n",
        "sample_list = [1,2,3,4,5]\n",
        "sample_list\n",
        "\n",
        "#4-5\n",
        "sample_array = np.array([1,2,3,4,5])\n",
        "sample_array\n",
        "sample_array + 2\n",
        "sample_array_diftype = np.array([1,2,\"A\"])\n",
        "sample_array_diftype\n",
        "#2次元配列\n",
        "sample_array_2 = np.array([[1,2,3],[4,5,6]])\n",
        "sample_array_2\n",
        "sample_array_2.shape\n",
        "\n",
        "#4-6 等差数列\n",
        "np.arange(start = 1, stop = 6, step = 1)\n",
        "\n",
        "#4-7\n",
        "#値同一のアレイ\n",
        "np.tile(\"A\",5)\n",
        "#0を5個持つアレイ\n",
        "np.zeros(5)\n",
        "\n",
        "#4-8\n",
        "d1_array = np.array([1,2,3,4,5])\n",
        "d1_array\n",
        "d1_array[0]\n",
        "##([2,3])←index1からindex0,1,2の3つまでが表示される\n",
        "d1_array[1:3]\n",
        "d2_array = np.array([[1,2,3,4,5],[6,7,8,9,10]])\n",
        "d2_array[0,3]\n",
        "d2_array[1, 2:4]\n",
        "\n",
        "#4-9\n",
        "sample_df = pd.DataFrame({\n",
        "    'col1' : sample_array,\n",
        "    'col2' : sample_array * 2,\n",
        "    'col3' : [\"A\",\"B\",\"C\",\"D\",\"E\"]\n",
        "})\n",
        "print(sample_df)\n",
        "sample_df\n",
        "\n",
        "#4－10\n",
        "file_data = pd.read_csv(\"2-4-1-sample_data.csv\")\n",
        "print(file_data)\n",
        "\n",
        "#4-11\n",
        "df_1 = pd.DataFrame({\n",
        "    'col1' : np.array([1,2,3]),\n",
        "    'col2' : np.array([\"A\",\"B\",\"C\"])\n",
        "})\n",
        "df_2 = pd.DataFrame({\n",
        "    'col1' : np.array([4,5,6]),\n",
        "    'col2' : np.array([\"D\",\"E\",\"F\"])\n",
        "})\n",
        "print(pd.concat([df_1,df_2]))\n",
        "print(pd.concat([df_1,df_2], axis = 1))\n",
        "\n",
        "#4-12 列操作\n",
        "print(sample_df.col2)\n",
        "print(sample_df[[\"col2\",\"col3\"]]) #複数列を出力\n",
        "print(sample_df.drop(\"col1\", axis = 1)) #特定列を除外\n",
        "\n",
        "#4-13 行操作\n",
        "print(sample_df.head(n=3))\n",
        "print(sample_df.query('index==0')) #query関数 先頭行を抽出\n",
        "print(sample_df.query('col3==\"A\"')) #query関数 col3列の値が\"A\"の行を抽出\n",
        "print(sample_df.query('col3 == \"A\" | col3 == \"D\"')) #query関数 or条件で抽出\n",
        "print(sample_df.query('col3 == \"A\" & col1 == 3')) #query関数 and条件で抽出\n",
        "print(sample_df.query('col3 == \"A\"'))[[\"col2\",\"col3\"]] #query関数 行列・両方を抽出"
      ],
      "execution_count": 17,
      "outputs": [
        {
          "output_type": "stream",
          "text": [
            "   col1  col2 col3\n",
            "0     1     2    A\n"
          ],
          "name": "stdout"
        }
      ]
    }
  ]
}