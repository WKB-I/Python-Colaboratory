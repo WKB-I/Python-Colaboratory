{
 "cells": [
  {
   "cell_type": "code",
   "execution_count": 9,
   "metadata": {
    "collapsed": false
   },
   "outputs": [
    {
     "name": "stderr",
     "output_type": "stream",
     "text": [
      "C:\\Users\\wakabayashi itsuki\\AppData\\Local\\Programs\\Python\\Python37\\lib\\site-packages\\ipykernel_launcher.py:10: DeprecationWarning: scipy.sum is deprecated and will be removed in SciPy 2.0.0, use numpy.sum instead\n  # Remove the CWD from sys.path while we load stuff.\nC:\\Users\\wakabayashi itsuki\\AppData\\Local\\Programs\\Python\\Python37\\lib\\site-packages\\ipykernel_launcher.py:15: DeprecationWarning: scipy.sum is deprecated and will be removed in SciPy 2.0.0, use numpy.sum instead\n  from ipykernel import kernelapp as app\nC:\\Users\\wakabayashi itsuki\\AppData\\Local\\Programs\\Python\\Python37\\lib\\site-packages\\ipykernel_launcher.py:18: DeprecationWarning: scipy.mean is deprecated and will be removed in SciPy 2.0.0, use numpy.mean instead\nC:\\Users\\wakabayashi itsuki\\AppData\\Local\\Programs\\Python\\Python37\\lib\\site-packages\\ipykernel_launcher.py:21: DeprecationWarning: scipy.sum is deprecated and will be removed in SciPy 2.0.0, use numpy.sum instead\nC:\\Users\\wakabayashi itsuki\\AppData\\Local\\Programs\\Python\\Python37\\lib\\site-packages\\ipykernel_launcher.py:24: DeprecationWarning: scipy.var is deprecated and will be removed in SciPy 2.0.0, use numpy.var instead\nC:\\Users\\wakabayashi itsuki\\AppData\\Local\\Programs\\Python\\Python37\\lib\\site-packages\\ipykernel_launcher.py:27: DeprecationWarning: scipy.sum is deprecated and will be removed in SciPy 2.0.0, use numpy.sum instead\nC:\\Users\\wakabayashi itsuki\\AppData\\Local\\Programs\\Python\\Python37\\lib\\site-packages\\ipykernel_launcher.py:29: DeprecationWarning: scipy.var is deprecated and will be removed in SciPy 2.0.0, use numpy.var instead\nC:\\Users\\wakabayashi itsuki\\AppData\\Local\\Programs\\Python\\Python37\\lib\\site-packages\\ipykernel_launcher.py:32: DeprecationWarning: scipy.sqrt is deprecated and will be removed in SciPy 2.0.0, use numpy.lib.scimath.sqrt instead\nC:\\Users\\wakabayashi itsuki\\AppData\\Local\\Programs\\Python\\Python37\\lib\\site-packages\\ipykernel_launcher.py:33: DeprecationWarning: scipy.std is deprecated and will be removed in SciPy 2.0.0, use numpy.std instead\n"
     ]
    },
    {
     "data": {
      "text/plain": [
       "1.155"
      ]
     },
     "execution_count": 9,
     "metadata": {},
     "output_type": "execute_result"
    }
   ],
   "source": [
    "import numpy as np\n",
    "import scipy as sp\n",
    "%precision 3\n",
    "\n",
    "#1-2 変量データの管理\n",
    "fish_data = np.array([2,3,3,4,4,4,4,5,5,6])\n",
    "fish_data\n",
    "\n",
    "#1-3 合計とサンプルサイズ\n",
    "sp.sum(fish_data)\n",
    "len(fish_data)\n",
    "\n",
    "#1-4 平均値（期待値）\n",
    "N = len(fish_data)\n",
    "sum_value = sp.sum(fish_data)\n",
    "mu = sum_value / N\n",
    "mu\n",
    "sp.mean(fish_data)\n",
    "\n",
    "#1-5 標本分散\n",
    "sigma_2_sample = sp.sum((fish_data - mu) ** 2) / N\n",
    "sigma_2_sample\n",
    "#これを使うと簡単\n",
    "sp.var(fish_data, ddof = 0)\n",
    "\n",
    "#1-6 不遍分散\n",
    "sigma_2 = sp.sum((fish_data - mu) ** 2) / (N - 1)\n",
    "sigma_2\n",
    "sp.var(fish_data, ddof = 1)\n",
    "\n",
    "#1-7 標準偏差\n",
    "sigma = sp.sqrt(sigma_2)\n",
    "sigma = sp.std(fish_data, ddof = 1)\n",
    "#numpyでもできるね\n",
    "sigma1 = np.std(fish_data, ddof=1)\n",
    "sigma1"
   ]
  },
  {
   "cell_type": "code",
   "execution_count": null,
   "metadata": {},
   "outputs": [],
   "source": []
  }
 ],
 "metadata": {
  "kernelspec": {
   "display_name": "Python 2",
   "language": "python",
   "name": "python2"
  },
  "language_info": {
   "codemirror_mode": {
    "name": "ipython",
    "version": 2
   },
   "file_extension": ".py",
   "mimetype": "text/x-python",
   "name": "python",
   "nbconvert_exporter": "python",
   "pygments_lexer": "ipython2",
   "version": "2.7.6"
  }
 },
 "nbformat": 4,
 "nbformat_minor": 0
}
