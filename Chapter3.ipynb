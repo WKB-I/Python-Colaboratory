{
  "nbformat": 4,
  "nbformat_minor": 0,
  "metadata": {
    "colab": {
      "name": "Chapter3.ipynb",
      "provenance": [],
      "collapsed_sections": [],
      "authorship_tag": "ABX9TyP+XeW+0g/1v5TMQ0PXmT0z",
      "include_colab_link": true
    },
    "kernelspec": {
      "name": "python3",
      "display_name": "Python 3"
    }
  },
  "cells": [
    {
      "cell_type": "markdown",
      "metadata": {
        "id": "view-in-github",
        "colab_type": "text"
      },
      "source": [
        "<a href=\"https://colab.research.google.com/github/WKB-I/Python-Colaboratory/blob/Chapter3/Chapter3.ipynb\" target=\"_parent\"><img src=\"https://colab.research.google.com/assets/colab-badge.svg\" alt=\"Open In Colab\"/></a>"
      ]
    },
    {
      "cell_type": "code",
      "metadata": {
        "id": "p8Isp1zYkkD1",
        "colab_type": "code",
        "colab": {
          "base_uri": "https://localhost:8080/",
          "height": 68
        },
        "outputId": "a2761b41-7a45-4354-e166-184fa0fcb026"
      },
      "source": [
        "import numpy as np\n",
        "import scipy as sp\n",
        "%precision 3\n",
        "\n",
        "#1-2 1変量データの管理\n",
        "fish_data = np.array([2,3,3,4,4,4,4,5,5,6])\n",
        "fish_data\n",
        "\n",
        "#1-3 \n",
        "sp.sum(fish_data)\n",
        "len(fish_data)\n",
        "\n",
        "#1-4 平均値（期待値）\n",
        "N = len(fish_data)\n",
        "sum_value = sp.sum(fish_data)\n",
        "mu = sum_value / N\n",
        "mu\n",
        "\n",
        "sp.mean(fish_data) # scipyのmean関数で変数の期待値は一発"
      ],
      "execution_count": 5,
      "outputs": [
        {
          "output_type": "stream",
          "text": [
            "/usr/local/lib/python3.6/dist-packages/ipykernel_launcher.py:1: DeprecationWarning: scipy.mean is deprecated and will be removed in SciPy 2.0.0, use numpy.mean instead\n",
            "  \"\"\"Entry point for launching an IPython kernel.\n"
          ],
          "name": "stderr"
        },
        {
          "output_type": "execute_result",
          "data": {
            "text/plain": [
              "4.000"
            ]
          },
          "metadata": {
            "tags": []
          },
          "execution_count": 5
        }
      ]
    }
  ]
}